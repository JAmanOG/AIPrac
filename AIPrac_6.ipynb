{
  "nbformat": 4,
  "nbformat_minor": 0,
  "metadata": {
    "colab": {
      "provenance": [],
      "authorship_tag": "ABX9TyNsebKp/0H85nm+I8R75nhH",
      "include_colab_link": true
    },
    "kernelspec": {
      "name": "python3",
      "display_name": "Python 3"
    },
    "language_info": {
      "name": "python"
    }
  },
  "cells": [
    {
      "cell_type": "markdown",
      "metadata": {
        "id": "view-in-github",
        "colab_type": "text"
      },
      "source": [
        "<a href=\"https://colab.research.google.com/github/JAmanOG/AIPrac/blob/main/AIPrac_6.ipynb\" target=\"_parent\"><img src=\"https://colab.research.google.com/assets/colab-badge.svg\" alt=\"Open In Colab\"/></a>"
      ]
    },
    {
      "cell_type": "code",
      "execution_count": 1,
      "metadata": {
        "colab": {
          "base_uri": "https://localhost:8080/"
        },
        "id": "KR9rpBbsGi1s",
        "outputId": "6d4dd9ba-6166-41bf-f3f2-2df282bb0b70"
      },
      "outputs": [
        {
          "output_type": "stream",
          "name": "stdout",
          "text": [
            "Mean Accuracy: 0.76\n"
          ]
        }
      ],
      "source": [
        "import pandas as pd\n",
        "from sklearn.model_selection import KFold, cross_val_score\n",
        "from sklearn.ensemble import AdaBoostClassifier\n",
        "import numpy as np\n",
        "\n",
        "# URL of the dataset\n",
        "url = \"https://raw.githubusercontent.com/jbrownlee/Datasets/master/pima-indians-diabetes.data.csv\"\n",
        "\n",
        "# Column names\n",
        "column_names = ['preg', 'plas', 'pres', 'skin', 'test', 'mass', 'pedi', 'age', 'class']\n",
        "\n",
        "# Load the dataset\n",
        "dataframe = pd.read_csv(url, names=column_names)\n",
        "\n",
        "# Convert dataframe to numpy array\n",
        "array = dataframe.values\n",
        "\n",
        "# Split into input (X) and output (Y) variables\n",
        "X = array[:, :-1]  # All rows, all columns except the last\n",
        "Y = array[:, -1]   # All rows, only the last column\n",
        "\n",
        "# Set random seed and number of trees for the AdaBoost model\n",
        "seed = 7\n",
        "num_trees = 30\n",
        "\n",
        "# Prepare the KFold cross-validator\n",
        "kfold = KFold(n_splits=10, random_state=seed, shuffle=True)\n",
        "\n",
        "# Create the AdaBoost model\n",
        "model = AdaBoostClassifier(n_estimators=num_trees, random_state=seed)\n",
        "\n",
        "# Evaluate the model using cross-validation\n",
        "results = cross_val_score(model, X, Y, cv=kfold)\n",
        "\n",
        "# Print the mean accuracy\n",
        "print(f\"Mean Accuracy: {results.mean():.2f}\")\n"
      ]
    }
  ]
}