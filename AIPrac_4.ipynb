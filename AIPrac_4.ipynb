{
  "nbformat": 4,
  "nbformat_minor": 0,
  "metadata": {
    "colab": {
      "provenance": [],
      "authorship_tag": "ABX9TyNbjZnR0VHR8Dxmg6C6uPv7",
      "include_colab_link": true
    },
    "kernelspec": {
      "name": "python3",
      "display_name": "Python 3"
    },
    "language_info": {
      "name": "python"
    }
  },
  "cells": [
    {
      "cell_type": "markdown",
      "metadata": {
        "id": "view-in-github",
        "colab_type": "text"
      },
      "source": [
        "<a href=\"https://colab.research.google.com/github/JAmanOG/AIPrac/blob/main/AIPrac_4.ipynb\" target=\"_parent\"><img src=\"https://colab.research.google.com/assets/colab-badge.svg\" alt=\"Open In Colab\"/></a>"
      ]
    },
    {
      "cell_type": "code",
      "execution_count": 1,
      "metadata": {
        "colab": {
          "base_uri": "https://localhost:8080/"
        },
        "id": "0gYw0HjeYk6m",
        "outputId": "051abf99-5e35-4042-95c1-bedbdfa90cfd"
      },
      "outputs": [
        {
          "output_type": "stream",
          "name": "stdout",
          "text": [
            "Input: [0 0], Predicted Output: [0.10684014]\n",
            "Input: [0 1], Predicted Output: [0.90425566]\n",
            "Input: [1 0], Predicted Output: [0.94053176]\n",
            "Input: [1 1], Predicted Output: [0.0779907]\n"
          ]
        }
      ],
      "source": [
        "import numpy as np\n",
        "\n",
        "def sigmoid(x):\n",
        "    return 1 / (1 + np.exp(-x))\n",
        "\n",
        "def sigmoid_derivative(x):\n",
        "    return x * (1 - x)\n",
        "\n",
        "class NeuralNetwork:\n",
        "    def __init__(self, input_size, hidden_size, output_size):\n",
        "        self.weights_input_hidden = np.random.uniform(-1, 1, (input_size, hidden_size))\n",
        "        self.weights_hidden_output = np.random.uniform(-1, 1, (hidden_size, output_size))\n",
        "\n",
        "    def forward(self, inputs):\n",
        "        self.hidden_input = np.dot(inputs, self.weights_input_hidden)\n",
        "        self.hidden_output = sigmoid(self.hidden_input)\n",
        "        self.output_input = np.dot(self.hidden_output, self.weights_hidden_output)\n",
        "        self.predicted_output = sigmoid(self.output_input)\n",
        "        return self.predicted_output\n",
        "\n",
        "    def backward(self, inputs, target, learning_rate):\n",
        "        error = target - self.predicted_output\n",
        "        delta_output = error * sigmoid_derivative(self.predicted_output)\n",
        "        error_hidden = delta_output.dot(self.weights_hidden_output.T)\n",
        "        delta_hidden = error_hidden * sigmoid_derivative(self.hidden_output)\n",
        "\n",
        "        self.weights_hidden_output += np.outer(self.hidden_output, delta_output) * learning_rate\n",
        "        self.weights_input_hidden += np.outer(inputs, delta_hidden) * learning_rate\n",
        "\n",
        "    def train(self, training_data, targets, epochs, learning_rate):\n",
        "        for epoch in range(epochs):\n",
        "            for i in range(len(training_data)):\n",
        "                inputs = training_data[i]\n",
        "                target = targets[i]\n",
        "                self.forward(inputs)\n",
        "                self.backward(inputs, target, learning_rate)\n",
        "\n",
        "    def predict(self, inputs):\n",
        "        return self.forward(inputs)\n",
        "\n",
        "training_data = np.array([[0, 0], [0, 1], [1, 0], [1, 1]])\n",
        "targets = np.array([[0], [1], [1], [0]])\n",
        "\n",
        "input_size = 2\n",
        "hidden_size = 4\n",
        "output_size = 1\n",
        "learning_rate = 0.1\n",
        "epochs = 10000\n",
        "\n",
        "nn = NeuralNetwork(input_size, hidden_size, output_size)\n",
        "nn.train(training_data, targets, epochs, learning_rate)\n",
        "\n",
        "for i in range(len(training_data)):\n",
        "    inputs = training_data[i]\n",
        "    prediction = nn.predict(inputs)\n",
        "    print(f\"Input: {inputs}, Predicted Output: {prediction}\")\n"
      ]
    }
  ]
}